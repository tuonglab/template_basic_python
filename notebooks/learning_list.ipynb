{
 "cells": [
  {
   "attachments": {},
   "cell_type": "markdown",
   "metadata": {},
   "source": [
    "### Introduction to basic python\n",
    "\n",
    "First we will look at lists. Lists are a collection of items. They can be of any type. They are defined by square brackets. \n",
    "\n",
    "```python\n",
    "my_list = [\"apple\", \"boy\", \"banana\", \"pear\", \"diamond\"]\n",
    "```\n",
    "\n",
    "Try running the cell below to see what happens."
   ]
  },
  {
   "cell_type": "code",
   "execution_count": null,
   "metadata": {},
   "outputs": [],
   "source": [
    "my_list = [\"apple\", \"boy\", \"banana\", \"pear\", \"diamond\"]\n",
    "my_list"
   ]
  },
  {
   "attachments": {},
   "cell_type": "markdown",
   "metadata": {},
   "source": [
    "If we want to access a particular element in a list, we can use the index of that element. The index of the first element is 0, the second is 1, and so on. \n",
    "\n",
    "So if we want to access just the second and fourth elements of the list, we can do the following:"
   ]
  },
  {
   "cell_type": "code",
   "execution_count": null,
   "metadata": {},
   "outputs": [],
   "source": [
    "for i in [1, 3]:\n",
    "    print(my_list[i])\n"
   ]
  },
  {
   "attachments": {},
   "cell_type": "markdown",
   "metadata": {},
   "source": [
    "But if we want to just access the second and fourth elements of the list, but as a new list, we can do the following:"
   ]
  },
  {
   "cell_type": "code",
   "execution_count": null,
   "metadata": {},
   "outputs": [],
   "source": [
    "new_list = [my_list[1], my_list[3]]\n",
    "new_list"
   ]
  },
  {
   "attachments": {},
   "cell_type": "markdown",
   "metadata": {},
   "source": [
    "### Appending to a list\n",
    "OK, so what if I want to add 10 other random elements from `my_list` to the `new_list`? You can do this by using the `append` method. "
   ]
  },
  {
   "cell_type": "code",
   "execution_count": null,
   "metadata": {},
   "outputs": [],
   "source": [
    "import random\n",
    "\n",
    "for j in random.choices(range(len(my_list)), k=10):\n",
    "    new_list.append(my_list[j])\n",
    "new_list"
   ]
  },
  {
   "attachments": {},
   "cell_type": "markdown",
   "metadata": {},
   "source": [
    "What did i just do above? I created a `for-loop` that iterates 10 times. Each time it iterates, it will randomly select an element from `my_list` and append it to `new_list`. The `range` function returns a list of integers from a certain length (defined by `len` function, which in this case was the length of `my_list`). `k=10` here means I'm choosing this 10 times. The `append` method adds an element to the end of a list."
   ]
  },
  {
   "cell_type": "code",
   "execution_count": null,
   "metadata": {},
   "outputs": [],
   "source": [
    "# if i want to just start this in a new list\n",
    "new_list2 = []  # create an empty list\n",
    "for j in random.choices(range(len(my_list)), k=10):\n",
    "    new_list2.append(my_list[j])\n",
    "new_list2\n"
   ]
  },
  {
   "attachments": {},
   "cell_type": "markdown",
   "metadata": {},
   "source": [
    "### List comprehension\n",
    "\n",
    "How would we do the above code in a `list comprehension`? What is a `list comprehension`? List comprehensions are a way to create lists in Python. They are a very powerful tool, and you will see them used a lot in Python code. They are also a bit confusing at first, so don't worry if you don't understand them right away. Basically, you can construct them as if you were writing a `for-loop`, but you don't need to write it as a `for-loop`. You would do it in a single line, as if you are reading it from left to right; like if you were talking about it. What do i mean? Let's look at an example. "
   ]
  },
  {
   "cell_type": "code",
   "execution_count": null,
   "metadata": {},
   "outputs": [],
   "source": [
    "new_list3 = [my_list[i] for i in random.choices(range(len(my_list)), k=10)]\n",
    "new_list3"
   ]
  },
  {
   "attachments": {},
   "cell_type": "markdown",
   "metadata": {},
   "source": [
    "The above `list comprehension` in cell 7 is equivalent to the `for-loop` in cell 6."
   ]
  },
  {
   "attachments": {},
   "cell_type": "markdown",
   "metadata": {},
   "source": [
    "## Adding two lists together\n",
    "\n",
    "Say we have two lists, The first list has about 50 items and the second has about 30 items (comprising of 10 possible fruits)."
   ]
  },
  {
   "cell_type": "code",
   "execution_count": null,
   "metadata": {},
   "outputs": [],
   "source": [
    "possible_fruits = [\n",
    "    \"apple\",\n",
    "    \"banana\",\n",
    "    \"pear\",\n",
    "    \"orange\",\n",
    "    \"grape\",\n",
    "    \"lemon\",\n",
    "    \"lime\",\n",
    "    \"watermelon\",\n",
    "    \"strawberry\",\n",
    "    \"blueberry\",\n",
    "]\n",
    "\n",
    "new_list4 = random.choices(possible_fruits, k=50)\n",
    "new_list5 = random.choices(possible_fruits, k=30)\n",
    "\n",
    "print(len(new_list4))\n",
    "print(len(new_list5))"
   ]
  },
  {
   "attachments": {},
   "cell_type": "markdown",
   "metadata": {},
   "source": [
    "How would we concatenate the two lists together? Simple! We just use the `+` operator.\n"
   ]
  },
  {
   "cell_type": "code",
   "execution_count": null,
   "metadata": {},
   "outputs": [],
   "source": [
    "new_list6 = new_list4 + new_list5\n",
    "print(len(new_list6))\n"
   ]
  },
  {
   "attachments": {},
   "cell_type": "markdown",
   "metadata": {},
   "source": [
    "Now, because there are only 10 possible fruits, we can use the `set` function to get the unique elements in the list."
   ]
  },
  {
   "cell_type": "code",
   "execution_count": null,
   "metadata": {},
   "outputs": [],
   "source": [
    "set(new_list6)\n"
   ]
  },
  {
   "attachments": {},
   "cell_type": "markdown",
   "metadata": {},
   "source": [
    "The output of the `set` function returns a `set` object. A `set` is a collection of unique elements. It is defined by curly brackets.\n",
    "A common thing to do is to convert a `set` to a `list` by using the `list` function."
   ]
  },
  {
   "cell_type": "code",
   "execution_count": null,
   "metadata": {},
   "outputs": [],
   "source": [
    "list(set(new_list6))\n"
   ]
  },
  {
   "attachments": {},
   "cell_type": "markdown",
   "metadata": {},
   "source": [
    "Now, the output is a list of unique elements."
   ]
  },
  {
   "attachments": {},
   "cell_type": "markdown",
   "metadata": {},
   "source": [
    "## combining lists with `zip`\n",
    "\n",
    "So what if we have two lists, and we want to combine them into a single list, but we want to keep the elements in the same order? We can use the `zip` function to do this."
   ]
  },
  {
   "cell_type": "code",
   "execution_count": null,
   "metadata": {},
   "outputs": [],
   "source": [
    "# first list contains 10 items comprised of 4 random tissue types\n",
    "list_a = [\n",
    "    \"liver\",\n",
    "    \"lung\",\n",
    "    \"brain\",\n",
    "    \"heart\",\n",
    "    \"liver\",\n",
    "    \"lung\",\n",
    "    \"brain\",\n",
    "    \"heart\",\n",
    "    \"liver\",\n",
    "    \"lung\",\n",
    "]\n",
    "# second list also contains 10 iterms but is either normal or tumour\n",
    "list_b = [\n",
    "    \"normal\",\n",
    "    \"normal\",\n",
    "    \"normal\",\n",
    "    \"normal\",\n",
    "    \"normal\",\n",
    "    \"tumour\",\n",
    "    \"tumour\",\n",
    "    \"tumour\",\n",
    "    \"tumour\",\n",
    "    \"tumour\",\n",
    "]"
   ]
  },
  {
   "attachments": {},
   "cell_type": "markdown",
   "metadata": {},
   "source": [
    "Now let's use zip to combine these two lists"
   ]
  },
  {
   "cell_type": "code",
   "execution_count": null,
   "metadata": {},
   "outputs": [],
   "source": [
    "list_c = list(zip(list_a, list_b))\n",
    "list_c\n"
   ]
  },
  {
   "attachments": {},
   "cell_type": "markdown",
   "metadata": {},
   "source": [
    "For single-cell data, often we actually try to combine the items in two columns/lists in a new column/list where the strings are now combined, but separated by an underscore. So we get something like  \"liver_normal\", \"lung_normal\", \"liver_tumor\", \"lung_tumor\", etc. How would we do this? We can use the `zip` function again; let's try it as a for-loop first."
   ]
  },
  {
   "cell_type": "code",
   "execution_count": null,
   "metadata": {},
   "outputs": [],
   "source": [
    "list_d = []\n",
    "for x, y in zip(list_a, list_b):\n",
    "    new_item = x + \"_\" + y\n",
    "    list_d.append(new_item)\n",
    "list_d\n"
   ]
  },
  {
   "attachments": {},
   "cell_type": "markdown",
   "metadata": {},
   "source": [
    "This time we will use a `list comprehension` to do it."
   ]
  },
  {
   "cell_type": "code",
   "execution_count": null,
   "metadata": {},
   "outputs": [],
   "source": [
    "# if we start with list_a and list_b\n",
    "list_e = [x + \"_\" + y for x, y in zip(list_a, list_b)]\n",
    "list_e\n"
   ]
  },
  {
   "cell_type": "code",
   "execution_count": null,
   "metadata": {},
   "outputs": [],
   "source": [
    "# but what if we do list_c?\n",
    "list_f = [x + \"_\" + y for x, y in list_c]\n",
    "list_f\n"
   ]
  },
  {
   "attachments": {},
   "cell_type": "markdown",
   "metadata": {},
   "source": [
    "Why does this work? Because the `zip` function returns a `tuple` object. A `tuple` is a collection of elements, but it is immutable. This means that once you create a `tuple`, you cannot change it. It is defined by parentheses. Try adding an element to a `tuple` and see what happens."
   ]
  },
  {
   "cell_type": "code",
   "execution_count": null,
   "metadata": {},
   "outputs": [],
   "source": [
    "coral = (\"blue coral\", \"staghorn coral\", \"pillar coral\", \"elkhorn coral\")"
   ]
  },
  {
   "attachments": {},
   "cell_type": "markdown",
   "metadata": {},
   "source": [
    "Say we want to replace the item 'blue coral' with a different item called 'black coral'. If we try to change that output the same way we do with a list, by typing:"
   ]
  },
  {
   "cell_type": "code",
   "execution_count": null,
   "metadata": {},
   "outputs": [],
   "source": [
    "# We will receive an error as our output:\n",
    "coral[0] = \"black coral\""
   ]
  },
  {
   "attachments": {},
   "cell_type": "markdown",
   "metadata": {},
   "source": [
    "This is because tuples cannot be modified. So how do we change an element in a tuple? We have to convert it to a list first, then change the element, then convert it back to a tuple."
   ]
  },
  {
   "cell_type": "code",
   "execution_count": null,
   "metadata": {},
   "outputs": [],
   "source": [
    "# We can't change the tuple, but we can change the list:\n",
    "coral_list = list(coral)\n",
    "coral_list[0] = \"black coral\"\n",
    "# convert it back into a tuple\n",
    "coral_modified = tuple(coral_list)\n",
    "coral_modified"
   ]
  },
  {
   "attachments": {},
   "cell_type": "markdown",
   "metadata": {},
   "source": [
    "You can, however, concatenate 2 or more tuples to form a new tuple. "
   ]
  },
  {
   "cell_type": "code",
   "execution_count": null,
   "metadata": {},
   "outputs": [],
   "source": [
    "tuple_1 = (\"liver\", \"normal\")\n",
    "tuple_2 = (\"lung\", \"normal\")\n",
    "# now try and add them together\n",
    "tuple_3 = tuple_1 + tuple_2\n",
    "tuple_3\n"
   ]
  },
  {
   "attachments": {},
   "cell_type": "markdown",
   "metadata": {},
   "source": [
    "What else can we do with lists, tuples and sets?"
   ]
  }
 ],
 "metadata": {
  "kernelspec": {
   "display_name": "base",
   "language": "python",
   "name": "python3"
  },
  "language_info": {
   "codemirror_mode": {
    "name": "ipython",
    "version": 3
   },
   "file_extension": ".py",
   "mimetype": "text/x-python",
   "name": "python",
   "nbconvert_exporter": "python",
   "pygments_lexer": "ipython3",
   "version": "3.10.9"
  },
  "orig_nbformat": 4
 },
 "nbformat": 4,
 "nbformat_minor": 2
}
